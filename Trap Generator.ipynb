{
 "cells": [
  {
   "cell_type": "code",
   "metadata": {
    "colab": {
     "base_uri": "https://localhost:8080/",
     "height": 204
    },
    "id": "j6fTAqAXDO_3",
    "outputId": "a8e047c8-7758-444f-9297-8e1128e5260f",
    "cell_id": "00000-57c4f786-e7c6-4e55-8a57-01208bc4507a",
    "deepnote_cell_type": "code"
   },
   "source": "import io\n\nimport os\n\nimport sys\n\nimport string\n\nimport numpy as np\n\nimport pandas as pd\n\nfrom tensorflow import keras\n\nfrom __future__ import print_function\n\nfrom tensorflow.keras.models import Sequential\n\nfrom sklearn.model_selection import train_test_split\n\nfrom tensorflow.keras.callbacks import LambdaCallback, ModelCheckpoint, EarlyStopping\n\nfrom tensorflow.keras.layers import Dense, Dropout, Activation, LSTM, Bidirectional, Embedding\n\n\ntranslator = str.maketrans('', '', string.punctuation)\n\ndf = pd.read_csv(\"/content/drive/MyDrive/RapLyrics/Trap-Male/Trap-Male.csv\", sep=\"\\t\")\n\ndf.head()\n\n",
   "outputs": [
    {
     "output_type": "execute_result",
     "data": {
      "text/html": "<div>\n<style scoped>\n    .dataframe tbody tr th:only-of-type {\n        vertical-align: middle;\n    }\n\n    .dataframe tbody tr th {\n        vertical-align: top;\n    }\n\n    .dataframe thead th {\n        text-align: right;\n    }\n</style>\n<table border=\"1\" class=\"dataframe\">\n  <thead>\n    <tr style=\"text-align: right;\">\n      <th></th>\n      <th>song_id</th>\n      <th>lyrics</th>\n    </tr>\n  </thead>\n  <tbody>\n    <tr>\n      <th>0</th>\n      <td>3e9HZxeyfWwjeyPAMmWSSQ</td>\n      <td>['[Verse 1]\\nThought I\\'d end up with Sean\\nBu...</td>\n    </tr>\n    <tr>\n      <th>1</th>\n      <td>5p7ujcrUXASCNwRaWNHR1C</td>\n      <td>[\"[Verse 1]\\nFound you when your heart was bro...</td>\n    </tr>\n    <tr>\n      <th>2</th>\n      <td>2xLMifQCjDGFmkHkpNLD9h</td>\n      <td>['[Part I]\\n\\n[Intro: Drake]\\nAstro, yeah\\nSun...</td>\n    </tr>\n    <tr>\n      <th>3</th>\n      <td>1hdjVrERYnp4FsjtJaXlB6</td>\n      <td>[\"[Verse 1]\\nBaby, when I think about\\nThe day...</td>\n    </tr>\n    <tr>\n      <th>4</th>\n      <td>28mv40MzspRZn0PBcO2itT</td>\n      <td>['[Intro x2: Ludacris]\\nDrop! 2 Fast\\nDrop! 2 ...</td>\n    </tr>\n  </tbody>\n</table>\n</div>",
      "text/plain": "                  song_id                                             lyrics\n0  3e9HZxeyfWwjeyPAMmWSSQ  ['[Verse 1]\\nThought I\\'d end up with Sean\\nBu...\n1  5p7ujcrUXASCNwRaWNHR1C  [\"[Verse 1]\\nFound you when your heart was bro...\n2  2xLMifQCjDGFmkHkpNLD9h  ['[Part I]\\n\\n[Intro: Drake]\\nAstro, yeah\\nSun...\n3  1hdjVrERYnp4FsjtJaXlB6  [\"[Verse 1]\\nBaby, when I think about\\nThe day...\n4  28mv40MzspRZn0PBcO2itT  ['[Intro x2: Ludacris]\\nDrop! 2 Fast\\nDrop! 2 ..."
     },
     "metadata": {},
     "execution_count": 1
    }
   ],
   "execution_count": null
  },
  {
   "cell_type": "code",
   "metadata": {
    "colab": {
     "base_uri": "https://localhost:8080/",
     "height": 440
    },
    "id": "0PT70XEuCTWw",
    "outputId": "fe34e0b9-c6d7-4560-8499-a3adaa561a38",
    "cell_id": "00001-b0d82d1b-97d2-40f0-a5de-2869da3f4ce2",
    "deepnote_cell_type": "code"
   },
   "source": "pdf = pd.read_csv('/content/drive/MyDrive/RapLyrics/PoetryFoundationData.csv',quotechar='\"')\n\npdf.head()",
   "outputs": [
    {
     "output_type": "execute_result",
     "data": {
      "text/html": "<div>\n<style scoped>\n    .dataframe tbody tr th:only-of-type {\n        vertical-align: middle;\n    }\n\n    .dataframe tbody tr th {\n        vertical-align: top;\n    }\n\n    .dataframe thead th {\n        text-align: right;\n    }\n</style>\n<table border=\"1\" class=\"dataframe\">\n  <thead>\n    <tr style=\"text-align: right;\">\n      <th></th>\n      <th>Unnamed: 0</th>\n      <th>Title</th>\n      <th>Poem</th>\n      <th>Poet</th>\n      <th>Tags</th>\n      <th>Unnamed: 5</th>\n      <th>Unnamed: 6</th>\n      <th>Unnamed: 7</th>\n      <th>Unnamed: 8</th>\n      <th>Unnamed: 9</th>\n      <th>Unnamed: 10</th>\n      <th>Unnamed: 11</th>\n      <th>Unnamed: 12</th>\n      <th>Unnamed: 13</th>\n      <th>Unnamed: 14</th>\n      <th>Unnamed: 15</th>\n      <th>Unnamed: 16</th>\n      <th>Unnamed: 17</th>\n      <th>Unnamed: 18</th>\n      <th>Unnamed: 19</th>\n      <th>Unnamed: 20</th>\n      <th>Unnamed: 21</th>\n      <th>Unnamed: 22</th>\n      <th>Unnamed: 23</th>\n      <th>Unnamed: 24</th>\n      <th>Unnamed: 25</th>\n      <th>Unnamed: 26</th>\n      <th>Unnamed: 27</th>\n      <th>Unnamed: 28</th>\n      <th>Unnamed: 29</th>\n      <th>Unnamed: 30</th>\n      <th>Unnamed: 31</th>\n      <th>Unnamed: 32</th>\n      <th>Unnamed: 33</th>\n      <th>Unnamed: 34</th>\n      <th>Unnamed: 35</th>\n      <th>Unnamed: 36</th>\n      <th>Unnamed: 37</th>\n      <th>Unnamed: 38</th>\n      <th>Unnamed: 39</th>\n      <th>...</th>\n      <th>Unnamed: 292</th>\n      <th>Unnamed: 293</th>\n      <th>Unnamed: 294</th>\n      <th>Unnamed: 295</th>\n      <th>Unnamed: 296</th>\n      <th>Unnamed: 297</th>\n      <th>Unnamed: 298</th>\n      <th>Unnamed: 299</th>\n      <th>Unnamed: 300</th>\n      <th>Unnamed: 301</th>\n      <th>Unnamed: 302</th>\n      <th>Unnamed: 303</th>\n      <th>Unnamed: 304</th>\n      <th>Unnamed: 305</th>\n      <th>Unnamed: 306</th>\n      <th>Unnamed: 307</th>\n      <th>Unnamed: 308</th>\n      <th>Unnamed: 309</th>\n      <th>Unnamed: 310</th>\n      <th>Unnamed: 311</th>\n      <th>Unnamed: 312</th>\n      <th>Unnamed: 313</th>\n      <th>Unnamed: 314</th>\n      <th>Unnamed: 315</th>\n      <th>Unnamed: 316</th>\n      <th>Unnamed: 317</th>\n      <th>Unnamed: 318</th>\n      <th>Unnamed: 319</th>\n      <th>Unnamed: 320</th>\n      <th>Unnamed: 321</th>\n      <th>Unnamed: 322</th>\n      <th>Unnamed: 323</th>\n      <th>Unnamed: 324</th>\n      <th>Unnamed: 325</th>\n      <th>Unnamed: 326</th>\n      <th>Unnamed: 327</th>\n      <th>Unnamed: 328</th>\n      <th>Unnamed: 329</th>\n      <th>Unnamed: 330</th>\n      <th>Unnamed: 331</th>\n    </tr>\n  </thead>\n  <tbody>\n    <tr>\n      <th>0</th>\n      <td>0.0</td>\n      <td>\\r\\r\\n                    Objects Used to Prop...</td>\n      <td>\\r\\r\\nDog bone, stapler,\\r\\r\\ncribbage board, ...</td>\n      <td>Michelle Menting</td>\n      <td>NaN</td>\n      <td>NaN</td>\n      <td>NaN</td>\n      <td>NaN</td>\n      <td>NaN</td>\n      <td>NaN</td>\n      <td>NaN</td>\n      <td>NaN</td>\n      <td>NaN</td>\n      <td>NaN</td>\n      <td>NaN</td>\n      <td>NaN</td>\n      <td>NaN</td>\n      <td>NaN</td>\n      <td>NaN</td>\n      <td>NaN</td>\n      <td>NaN</td>\n      <td>NaN</td>\n      <td>NaN</td>\n      <td>NaN</td>\n      <td>NaN</td>\n      <td>NaN</td>\n      <td>NaN</td>\n      <td>NaN</td>\n      <td>NaN</td>\n      <td>NaN</td>\n      <td>NaN</td>\n      <td>NaN</td>\n      <td>NaN</td>\n      <td>NaN</td>\n      <td>NaN</td>\n      <td>NaN</td>\n      <td>NaN</td>\n      <td>NaN</td>\n      <td>NaN</td>\n      <td>NaN</td>\n      <td>...</td>\n      <td>NaN</td>\n      <td>NaN</td>\n      <td>NaN</td>\n      <td>NaN</td>\n      <td>NaN</td>\n      <td>NaN</td>\n      <td>NaN</td>\n      <td>NaN</td>\n      <td>NaN</td>\n      <td>NaN</td>\n      <td>NaN</td>\n      <td>NaN</td>\n      <td>NaN</td>\n      <td>NaN</td>\n      <td>NaN</td>\n      <td>NaN</td>\n      <td>NaN</td>\n      <td>NaN</td>\n      <td>NaN</td>\n      <td>NaN</td>\n      <td>NaN</td>\n      <td>NaN</td>\n      <td>NaN</td>\n      <td>NaN</td>\n      <td>NaN</td>\n      <td>NaN</td>\n      <td>NaN</td>\n      <td>NaN</td>\n      <td>NaN</td>\n      <td>NaN</td>\n      <td>NaN</td>\n      <td>NaN</td>\n      <td>NaN</td>\n      <td>NaN</td>\n      <td>NaN</td>\n      <td>NaN</td>\n      <td>NaN</td>\n      <td>NaN</td>\n      <td>NaN</td>\n      <td>NaN</td>\n    </tr>\n    <tr>\n      <th>1</th>\n      <td>1.0</td>\n      <td>\\r\\r\\n                    The New Church\\r\\r\\n...</td>\n      <td>\\r\\r\\nThe old cupola glinted above the clouds,...</td>\n      <td>Lucia Cherciu</td>\n      <td>NaN</td>\n      <td>NaN</td>\n      <td>NaN</td>\n      <td>NaN</td>\n      <td>NaN</td>\n      <td>NaN</td>\n      <td>NaN</td>\n      <td>NaN</td>\n      <td>NaN</td>\n      <td>NaN</td>\n      <td>NaN</td>\n      <td>NaN</td>\n      <td>NaN</td>\n      <td>NaN</td>\n      <td>NaN</td>\n      <td>NaN</td>\n      <td>NaN</td>\n      <td>NaN</td>\n      <td>NaN</td>\n      <td>NaN</td>\n      <td>NaN</td>\n      <td>NaN</td>\n      <td>NaN</td>\n      <td>NaN</td>\n      <td>NaN</td>\n      <td>NaN</td>\n      <td>NaN</td>\n      <td>NaN</td>\n      <td>NaN</td>\n      <td>NaN</td>\n      <td>NaN</td>\n      <td>NaN</td>\n      <td>NaN</td>\n      <td>NaN</td>\n      <td>NaN</td>\n      <td>NaN</td>\n      <td>...</td>\n      <td>NaN</td>\n      <td>NaN</td>\n      <td>NaN</td>\n      <td>NaN</td>\n      <td>NaN</td>\n      <td>NaN</td>\n      <td>NaN</td>\n      <td>NaN</td>\n      <td>NaN</td>\n      <td>NaN</td>\n      <td>NaN</td>\n      <td>NaN</td>\n      <td>NaN</td>\n      <td>NaN</td>\n      <td>NaN</td>\n      <td>NaN</td>\n      <td>NaN</td>\n      <td>NaN</td>\n      <td>NaN</td>\n      <td>NaN</td>\n      <td>NaN</td>\n      <td>NaN</td>\n      <td>NaN</td>\n      <td>NaN</td>\n      <td>NaN</td>\n      <td>NaN</td>\n      <td>NaN</td>\n      <td>NaN</td>\n      <td>NaN</td>\n      <td>NaN</td>\n      <td>NaN</td>\n      <td>NaN</td>\n      <td>NaN</td>\n      <td>NaN</td>\n      <td>NaN</td>\n      <td>NaN</td>\n      <td>NaN</td>\n      <td>NaN</td>\n      <td>NaN</td>\n      <td>NaN</td>\n    </tr>\n    <tr>\n      <th>2</th>\n      <td>2.0</td>\n      <td>\\r\\r\\n                    Look for Me\\r\\r\\n   ...</td>\n      <td>\\r\\r\\nLook for me under the hood\\r\\r\\nof that ...</td>\n      <td>Ted Kooser</td>\n      <td>NaN</td>\n      <td>NaN</td>\n      <td>NaN</td>\n      <td>NaN</td>\n      <td>NaN</td>\n      <td>NaN</td>\n      <td>NaN</td>\n      <td>NaN</td>\n      <td>NaN</td>\n      <td>NaN</td>\n      <td>NaN</td>\n      <td>NaN</td>\n      <td>NaN</td>\n      <td>NaN</td>\n      <td>NaN</td>\n      <td>NaN</td>\n      <td>NaN</td>\n      <td>NaN</td>\n      <td>NaN</td>\n      <td>NaN</td>\n      <td>NaN</td>\n      <td>NaN</td>\n      <td>NaN</td>\n      <td>NaN</td>\n      <td>NaN</td>\n      <td>NaN</td>\n      <td>NaN</td>\n      <td>NaN</td>\n      <td>NaN</td>\n      <td>NaN</td>\n      <td>NaN</td>\n      <td>NaN</td>\n      <td>NaN</td>\n      <td>NaN</td>\n      <td>NaN</td>\n      <td>NaN</td>\n      <td>...</td>\n      <td>NaN</td>\n      <td>NaN</td>\n      <td>NaN</td>\n      <td>NaN</td>\n      <td>NaN</td>\n      <td>NaN</td>\n      <td>NaN</td>\n      <td>NaN</td>\n      <td>NaN</td>\n      <td>NaN</td>\n      <td>NaN</td>\n      <td>NaN</td>\n      <td>NaN</td>\n      <td>NaN</td>\n      <td>NaN</td>\n      <td>NaN</td>\n      <td>NaN</td>\n      <td>NaN</td>\n      <td>NaN</td>\n      <td>NaN</td>\n      <td>NaN</td>\n      <td>NaN</td>\n      <td>NaN</td>\n      <td>NaN</td>\n      <td>NaN</td>\n      <td>NaN</td>\n      <td>NaN</td>\n      <td>NaN</td>\n      <td>NaN</td>\n      <td>NaN</td>\n      <td>NaN</td>\n      <td>NaN</td>\n      <td>NaN</td>\n      <td>NaN</td>\n      <td>NaN</td>\n      <td>NaN</td>\n      <td>NaN</td>\n      <td>NaN</td>\n      <td>NaN</td>\n      <td>NaN</td>\n    </tr>\n    <tr>\n      <th>3</th>\n      <td>3.0</td>\n      <td>\\r\\r\\n                    Wild Life\\r\\r\\n     ...</td>\n      <td>\\r\\r\\nBehind the silo, the Mother Rabbit\\r\\r\\n...</td>\n      <td>Grace Cavalieri</td>\n      <td>NaN</td>\n      <td>NaN</td>\n      <td>NaN</td>\n      <td>NaN</td>\n      <td>NaN</td>\n      <td>NaN</td>\n      <td>NaN</td>\n      <td>NaN</td>\n      <td>NaN</td>\n      <td>NaN</td>\n      <td>NaN</td>\n      <td>NaN</td>\n      <td>NaN</td>\n      <td>NaN</td>\n      <td>NaN</td>\n      <td>NaN</td>\n      <td>NaN</td>\n      <td>NaN</td>\n      <td>NaN</td>\n      <td>NaN</td>\n      <td>NaN</td>\n      <td>NaN</td>\n      <td>NaN</td>\n      <td>NaN</td>\n      <td>NaN</td>\n      <td>NaN</td>\n      <td>NaN</td>\n      <td>NaN</td>\n      <td>NaN</td>\n      <td>NaN</td>\n      <td>NaN</td>\n      <td>NaN</td>\n      <td>NaN</td>\n      <td>NaN</td>\n      <td>NaN</td>\n      <td>NaN</td>\n      <td>...</td>\n      <td>NaN</td>\n      <td>NaN</td>\n      <td>NaN</td>\n      <td>NaN</td>\n      <td>NaN</td>\n      <td>NaN</td>\n      <td>NaN</td>\n      <td>NaN</td>\n      <td>NaN</td>\n      <td>NaN</td>\n      <td>NaN</td>\n      <td>NaN</td>\n      <td>NaN</td>\n      <td>NaN</td>\n      <td>NaN</td>\n      <td>NaN</td>\n      <td>NaN</td>\n      <td>NaN</td>\n      <td>NaN</td>\n      <td>NaN</td>\n      <td>NaN</td>\n      <td>NaN</td>\n      <td>NaN</td>\n      <td>NaN</td>\n      <td>NaN</td>\n      <td>NaN</td>\n      <td>NaN</td>\n      <td>NaN</td>\n      <td>NaN</td>\n      <td>NaN</td>\n      <td>NaN</td>\n      <td>NaN</td>\n      <td>NaN</td>\n      <td>NaN</td>\n      <td>NaN</td>\n      <td>NaN</td>\n      <td>NaN</td>\n      <td>NaN</td>\n      <td>NaN</td>\n      <td>NaN</td>\n    </tr>\n    <tr>\n      <th>4</th>\n      <td>4.0</td>\n      <td>\\r\\r\\n                    Umbrella\\r\\r\\n      ...</td>\n      <td>\\r\\r\\nWhen I push your button\\r\\r\\nyou fly off...</td>\n      <td>Connie Wanek</td>\n      <td>NaN</td>\n      <td>NaN</td>\n      <td>NaN</td>\n      <td>NaN</td>\n      <td>NaN</td>\n      <td>NaN</td>\n      <td>NaN</td>\n      <td>NaN</td>\n      <td>NaN</td>\n      <td>NaN</td>\n      <td>NaN</td>\n      <td>NaN</td>\n      <td>NaN</td>\n      <td>NaN</td>\n      <td>NaN</td>\n      <td>NaN</td>\n      <td>NaN</td>\n      <td>NaN</td>\n      <td>NaN</td>\n      <td>NaN</td>\n      <td>NaN</td>\n      <td>NaN</td>\n      <td>NaN</td>\n      <td>NaN</td>\n      <td>NaN</td>\n      <td>NaN</td>\n      <td>NaN</td>\n      <td>NaN</td>\n      <td>NaN</td>\n      <td>NaN</td>\n      <td>NaN</td>\n      <td>NaN</td>\n      <td>NaN</td>\n      <td>NaN</td>\n      <td>NaN</td>\n      <td>NaN</td>\n      <td>...</td>\n      <td>NaN</td>\n      <td>NaN</td>\n      <td>NaN</td>\n      <td>NaN</td>\n      <td>NaN</td>\n      <td>NaN</td>\n      <td>NaN</td>\n      <td>NaN</td>\n      <td>NaN</td>\n      <td>NaN</td>\n      <td>NaN</td>\n      <td>NaN</td>\n      <td>NaN</td>\n      <td>NaN</td>\n      <td>NaN</td>\n      <td>NaN</td>\n      <td>NaN</td>\n      <td>NaN</td>\n      <td>NaN</td>\n      <td>NaN</td>\n      <td>NaN</td>\n      <td>NaN</td>\n      <td>NaN</td>\n      <td>NaN</td>\n      <td>NaN</td>\n      <td>NaN</td>\n      <td>NaN</td>\n      <td>NaN</td>\n      <td>NaN</td>\n      <td>NaN</td>\n      <td>NaN</td>\n      <td>NaN</td>\n      <td>NaN</td>\n      <td>NaN</td>\n      <td>NaN</td>\n      <td>NaN</td>\n      <td>NaN</td>\n      <td>NaN</td>\n      <td>NaN</td>\n      <td>NaN</td>\n    </tr>\n  </tbody>\n</table>\n<p>5 rows × 332 columns</p>\n</div>",
      "text/plain": "   Unnamed: 0  ... Unnamed: 331\n0         0.0  ...          NaN\n1         1.0  ...          NaN\n2         2.0  ...          NaN\n3         3.0  ...          NaN\n4         4.0  ...          NaN\n\n[5 rows x 332 columns]"
     },
     "metadata": {},
     "execution_count": 2
    }
   ],
   "execution_count": null
  },
  {
   "cell_type": "code",
   "metadata": {
    "colab": {
     "base_uri": "https://localhost:8080/",
     "height": 204
    },
    "id": "AhhX7KFpD5yT",
    "outputId": "25104d7e-75f7-4a99-ac51-e636905a3799",
    "cell_id": "00002-f68b18f2-5d72-4254-9822-3bbb6ed5097f",
    "deepnote_cell_type": "code"
   },
   "source": "def split_text(x):\n\n   text = x['lyrics']\n   x = str(x)\n\n   sections = str(text).split('\\\\n\\\\n')\n\n   keys = {'Verse 1': np.nan,'Verse 2':np.nan,'Verse 3':np.nan,'Verse 4':np.nan, 'Chorus':np.nan}\n\n   lyrics = str()\n\n   single_text = []\n\n   res = {}\n\n   for s in sections:\n\n       key = s[s.find('[') + 1:s.find(']')].strip()\n\n       if ':' in key:\n\n           key = key[:key.find(':')]\n          \n\n       if key in keys:\n\n           single_text += [x.lower().replace('(','').replace(')','').translate(translator) for x in s[s.find(']')+1:].split('\\\\n') if len(x) > 1]\n          \n\n       res['single_text'] =  ' \\n '.join(single_text)\n\n   return pd.Series(res)\n\n\ndf = df.join( df.apply(split_text, axis=1))\n\ndf.head()",
   "outputs": [
    {
     "output_type": "execute_result",
     "data": {
      "text/html": "<div>\n<style scoped>\n    .dataframe tbody tr th:only-of-type {\n        vertical-align: middle;\n    }\n\n    .dataframe tbody tr th {\n        vertical-align: top;\n    }\n\n    .dataframe thead th {\n        text-align: right;\n    }\n</style>\n<table border=\"1\" class=\"dataframe\">\n  <thead>\n    <tr style=\"text-align: right;\">\n      <th></th>\n      <th>song_id</th>\n      <th>lyrics</th>\n      <th>single_text</th>\n    </tr>\n  </thead>\n  <tbody>\n    <tr>\n      <th>0</th>\n      <td>3e9HZxeyfWwjeyPAMmWSSQ</td>\n      <td>['[Verse 1]\\nThought I\\'d end up with Sean\\nBu...</td>\n      <td>thank you next next \\n thank you next next \\n ...</td>\n    </tr>\n    <tr>\n      <th>1</th>\n      <td>5p7ujcrUXASCNwRaWNHR1C</td>\n      <td>[\"[Verse 1]\\nFound you when your heart was bro...</td>\n      <td>tell me hows it feel sittin up there \\n feelin...</td>\n    </tr>\n    <tr>\n      <th>2</th>\n      <td>2xLMifQCjDGFmkHkpNLD9h</td>\n      <td>['[Part I]\\n\\n[Intro: Drake]\\nAstro, yeah\\nSun...</td>\n      <td>woo made this here with all the ice on in the ...</td>\n    </tr>\n    <tr>\n      <th>3</th>\n      <td>1hdjVrERYnp4FsjtJaXlB6</td>\n      <td>[\"[Verse 1]\\nBaby, when I think about\\nThe day...</td>\n      <td>im glad when im making love to you \\n im glad ...</td>\n    </tr>\n    <tr>\n      <th>4</th>\n      <td>28mv40MzspRZn0PBcO2itT</td>\n      <td>['[Intro x2: Ludacris]\\nDrop! 2 Fast\\nDrop! 2 ...</td>\n      <td>talkin about gats traps cops and robbers \\n it...</td>\n    </tr>\n  </tbody>\n</table>\n</div>",
      "text/plain": "                  song_id  ...                                        single_text\n0  3e9HZxeyfWwjeyPAMmWSSQ  ...  thank you next next \\n thank you next next \\n ...\n1  5p7ujcrUXASCNwRaWNHR1C  ...  tell me hows it feel sittin up there \\n feelin...\n2  2xLMifQCjDGFmkHkpNLD9h  ...  woo made this here with all the ice on in the ...\n3  1hdjVrERYnp4FsjtJaXlB6  ...  im glad when im making love to you \\n im glad ...\n4  28mv40MzspRZn0PBcO2itT  ...  talkin about gats traps cops and robbers \\n it...\n\n[5 rows x 3 columns]"
     },
     "metadata": {},
     "execution_count": 3
    }
   ],
   "execution_count": null
  },
  {
   "cell_type": "code",
   "metadata": {
    "id": "O9fVeSD6D9Ym",
    "cell_id": "00003-9cf0f11a-bd19-4b9f-ac5e-af9185926b69",
    "deepnote_cell_type": "code"
   },
   "source": "pdf['single_text'] = pdf['Poem'].apply(lambda x: ' \\n '.join([l.lower().strip().translate(translator) for l in str(x).splitlines() if len(l)>0]))\n\npdf.head()\n\nsum_df = pd.DataFrame( df['single_text'] )\n\nsum_df = sum_df.append(pd.DataFrame( pdf['single_text'] ))\n\nsum_df.dropna(inplace=True)",
   "outputs": [],
   "execution_count": null
  },
  {
   "cell_type": "code",
   "metadata": {
    "colab": {
     "base_uri": "https://localhost:8080/"
    },
    "id": "SkGB1KugC90B",
    "outputId": "1906d8b7-392d-4b3f-ec82-fca8a5e82418",
    "cell_id": "00004-7637e089-2cbb-4607-8d9f-d8380b399188",
    "deepnote_cell_type": "code"
   },
   "source": "text_as_list = []\n\nfrequencies = {}\n\nuncommon_words = set()\n\nMIN_FREQUENCY = 7\n\nMIN_SEQ = 5\n\nBATCH_SIZE =  32\n\n\ndef extract_text(text):\n\n   global text_as_list\n\n   text_as_list += [w for w in text.split(' ') if w.strip() != '' or w == '\\n']\n\n\nsum_df['single_text'].apply( extract_text )\n\nprint('Total words: ', len(text_as_list))\n\n\nfor w in text_as_list:\n\n   frequencies[w] = frequencies.get(w, 0) + 1\n  \n\nuncommon_words = set([key for key in frequencies.keys() if frequencies[key] < MIN_FREQUENCY])\n\nwords = sorted(set([key for key in frequencies.keys() if frequencies[key] >= MIN_FREQUENCY]))\n\n\nnum_words = len(words)\n\nword_indices = dict((w, i) for i, w in enumerate(words))\n\nindices_word = dict((i, w) for i, w in enumerate(words))\n\nprint('Words with less than {} appearances: {}'.format( MIN_FREQUENCY, len(uncommon_words)))\n\nprint('Words with more than {} appearances: {}'.format( MIN_FREQUENCY, len(words)))\n\n\nvalid_seqs = []\n\nend_seq_words = []\n\nfor i in range(len(text_as_list) - MIN_SEQ ):\n\n   end_slice = i + MIN_SEQ + 1\n\n   if len( set(text_as_list[i:end_slice]).intersection(uncommon_words) ) == 0:\n\n       valid_seqs.append(text_as_list[i: i + MIN_SEQ])\n\n       end_seq_words.append(text_as_list[i + MIN_SEQ])\n      \n\nprint('Valid sequences of size {}: {}'.format(MIN_SEQ, len(valid_seqs)))\n\n\nX_train, X_test, y_train, y_test = train_test_split(valid_seqs, end_seq_words, test_size=0.02, random_state=42)\n\nprint(X_train[2:5])",
   "outputs": [
    {
     "output_type": "stream",
     "name": "stdout",
     "text": "Total words:  411447\nWords with less than 7 appearances: 15502\nWords with more than 7 appearances: 3248\nValid sequences of size 5: 295088\n[['tied', 'his', 'brother', 'to', 'the'], ['be', 'gone', '\\n', 'you', 'think'], ['and', 'run', 'in', 'bare', 'feet']]\n"
    }
   ],
   "execution_count": null
  },
  {
   "cell_type": "code",
   "metadata": {
    "id": "iNacnXkRDUEd",
    "cell_id": "00005-d4267f8c-9666-41c9-bfd1-21e0c454647f",
    "deepnote_cell_type": "code"
   },
   "source": "# Data generator for fit and evaluate\n\ndef generator(sentence_list, next_word_list, batch_size):\n\n   index = 0\n\n   while True:\n\n       x = np.zeros((batch_size, MIN_SEQ), dtype=np.int32)\n\n       y = np.zeros((batch_size), dtype=np.int32)\n\n       for i in range(batch_size):\n\n           for t, w in enumerate(sentence_list[index % len(sentence_list)]):\n\n               x[i, t] = word_indices[w]\n\n           y[i] = word_indices[next_word_list[index % len(sentence_list)]]\n\n           index = index + 1\n\n       yield x, y\n\n\n# Functions from keras-team/keras/blob/master/examples/lstm_text_generation.py\n\ndef sample(preds, temperature=1.0):\n\n   # helper function to sample an index from a probability array\n\n   preds = np.asarray(preds).astype('float64')\n\n   preds = np.log(preds) / temperature\n\n   exp_preds = np.exp(preds)\n\n   preds = exp_preds / np.sum(exp_preds)\n\n   probas = np.random.multinomial(1, preds, 1)\n\n   return np.argmax(probas)\n\n\ndef on_epoch_end(epoch, logs):\n\n   # Function invoked at end of each epoch. Prints generated text.\n\n   examples_file.write('\\n----- Generating text after Epoch: %d\\n' % epoch)\n\n\n   # Randomly pick a seed sequence\n\n   seed_index = np.random.randint(len(X_train+X_test))\n\n   seed = (X_train+X_test)[seed_index]\n\n\n   for diversity in [0.3, 0.4, 0.5, 0.6, 0.7]:\n\n       sentence = seed\n\n       examples_file.write('----- Diversity:' + str(diversity) + '\\n')\n\n       examples_file.write('----- Generating with seed:\\n\"' + ' '.join(sentence) + '\"\\n')\n\n       examples_file.write(' '.join(sentence))\n\n\n       for i in range(50):\n\n           x_pred = np.zeros((1, MIN_SEQ))\n\n           for t, word in enumerate(sentence):\n\n               x_pred[0, t] = word_indices[word]\n\n\n           preds = model.predict(x_pred, verbose=0)[0]\n\n           next_index = sample(preds, diversity)\n\n           next_word = indices_word[next_index]\n\n\n           sentence = sentence[1:]\n\n           sentence.append(next_word)\n\n\n           examples_file.write(\" \"+next_word)\n\n       examples_file.write('\\n')\n\n   examples_file.write('='*80 + '\\n')\n\n   examples_file.flush()",
   "outputs": [],
   "execution_count": null
  },
  {
   "cell_type": "code",
   "metadata": {
    "id": "wo0Nw8c2DWsf",
    "cell_id": "00006-d7a8013a-c725-49d7-9abe-c8a6fc1d72da",
    "deepnote_cell_type": "code"
   },
   "source": "def get_model():\n\n   print('Build model...')\n\n   model = Sequential()\n\n   model.add(Embedding(input_dim=len(words), output_dim=1024))\n\n   model.add(Bidirectional(LSTM(128)))\n\n   model.add(Dense(len(words)))\n\n   model.add(Activation('softmax'))\n\n   return model",
   "outputs": [],
   "execution_count": null
  },
  {
   "cell_type": "code",
   "metadata": {
    "id": "s5qLvbJ7tBYl",
    "cell_id": "00007-e695fed7-ef69-4536-ac2e-d6dfa9d6a000",
    "deepnote_cell_type": "code"
   },
   "source": "def get_model():\n\n   print('Build model...')\n\n   model = Sequential()\n\n   model.add(Embedding(input_dim=len(words), output_dim=1024))\n\n   model.add(Bidirectional(LSTM(128)))\n\n   model.add(Dense(len(words)))\n\n   model.add(Activation('softmax'))\n\n   return model",
   "outputs": [],
   "execution_count": null
  },
  {
   "cell_type": "code",
   "metadata": {
    "colab": {
     "base_uri": "https://localhost:8080/"
    },
    "id": "c9caaZMCDamR",
    "outputId": "d354dfea-f276-48ba-e94b-629ba78043d2",
    "cell_id": "00008-6749a782-32d5-482a-a77d-98da94be2854",
    "deepnote_cell_type": "code"
   },
   "source": "model = get_model()\n\nmodel.compile(loss='sparse_categorical_crossentropy', optimizer=\"adam\", metrics=['accuracy'])\n\n\nfile_path = \"/content/drive/MyDrive/RapLyrics/Trap-Male/checkpoints/LSTM_LYRICS-epoch{epoch:03d}-words%d-sequence%d-minfreq%d-loss{loss:.4f}-acc{accuracy:.4f}-val_loss{val_loss:.4f}-val_acc{val_accuracy:.4f}\" %(len(words), MIN_SEQ, MIN_FREQUENCY)\n\n\ncheckpoint = ModelCheckpoint(file_path, monitor='val_accuracy', save_best_only=True)\n\nprint_callback = LambdaCallback(on_epoch_end=on_epoch_end)\n\nearly_stopping = EarlyStopping(monitor='val_accuracy', patience=20)\n\ncallbacks_list = [checkpoint, print_callback, early_stopping]\n\n\nexamples_file = open('examples.txt', \"w\")\n\nmodel.fit(generator(X_train, y_train, BATCH_SIZE),\n\n                   steps_per_epoch=int(len(valid_seqs)/BATCH_SIZE) + 1,\n\n                   epochs=1,\n\n                   callbacks=callbacks_list,\n\n                   validation_data=generator(X_test, y_train, BATCH_SIZE),\n\n                   validation_steps=int(len(y_train)/BATCH_SIZE) + 1)",
   "outputs": [
    {
     "output_type": "stream",
     "name": "stdout",
     "text": "Build model...\n9222/9222 [==============================] - 1336s 144ms/step - loss: 4.6003 - accuracy: 0.2182 - val_loss: 7.2498 - val_accuracy: 0.0388\n"
    },
    {
     "output_type": "stream",
     "name": "stderr",
     "text": "WARNING:absl:Found untraced functions such as lstm_cell_1_layer_call_and_return_conditional_losses, lstm_cell_1_layer_call_fn, lstm_cell_2_layer_call_and_return_conditional_losses, lstm_cell_2_layer_call_fn, lstm_cell_1_layer_call_fn while saving (showing 5 of 10). These functions will not be directly callable after loading.\n"
    },
    {
     "output_type": "stream",
     "name": "stdout",
     "text": "INFO:tensorflow:Assets written to: /content/drive/MyDrive/RapLyrics/Trap-Male/checkpoints/LSTM_LYRICS-epoch001-words3248-sequence5-minfreq7-loss4.6003-acc0.2182-val_loss7.2498-val_acc0.0388/assets\n"
    },
    {
     "output_type": "stream",
     "name": "stderr",
     "text": "INFO:tensorflow:Assets written to: /content/drive/MyDrive/RapLyrics/Trap-Male/checkpoints/LSTM_LYRICS-epoch001-words3248-sequence5-minfreq7-loss4.6003-acc0.2182-val_loss7.2498-val_acc0.0388/assets\n"
    },
    {
     "output_type": "execute_result",
     "data": {
      "text/plain": "<keras.callbacks.History at 0x7f03a131b710>"
     },
     "metadata": {},
     "execution_count": 9
    }
   ],
   "execution_count": null
  },
  {
   "cell_type": "markdown",
   "source": "<a style='text-decoration:none;line-height:16px;display:flex;color:#5B5B62;padding:10px;justify-content:end;' href='https://deepnote.com?utm_source=created-in-deepnote-cell&projectId=e1609fae-f7ed-42b7-8c74-772735f18851' target=\"_blank\">\n<img alt='Created in deepnote.com' style='display:inline;max-height:16px;margin:0px;margin-right:7.5px;' src='data:image/svg+xml;base64,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' > </img>\nCreated in <span style='font-weight:600;margin-left:4px;'>Deepnote</span></a>",
   "metadata": {
    "tags": [],
    "created_in_deepnote_cell": true,
    "deepnote_cell_type": "markdown"
   }
  }
 ],
 "nbformat": 4,
 "nbformat_minor": 0,
 "metadata": {
  "colab": {
   "name": "Genre=Trap-RapLyrics-Fiverr-1Nov.ipynb",
   "provenance": [],
   "collapsed_sections": []
  },
  "kernelspec": {
   "name": "python3",
   "display_name": "Python 3"
  },
  "language_info": {
   "name": "python"
  },
  "deepnote_notebook_id": "fb82b5f1-e5ee-4e8b-9d63-729b77cb0d35",
  "deepnote": {},
  "deepnote_execution_queue": []
 }
}